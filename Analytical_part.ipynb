{
 "cells": [
  {
   "cell_type": "code",
   "execution_count": 3,
   "metadata": {},
   "outputs": [],
   "source": [
    "import numpy as np\n",
    "import pandas as pd\n",
    "import matplotlib.pyplot as plt\n",
    "import seaborn as sns\n",
    "from sklearn.tree import DecisionTreeClassifier,export_graphviz \n",
    "from sklearn.model_selection import train_test_split\n",
    "from statsmodels.discrete.discrete_model import Logit\n",
    "from sklearn.linear_model import LogisticRegression\n",
    "from sklearn.metrics import confusion_matrix, classification_report\n",
    "from sklearn.model_selection import GridSearchCV\n",
    "from sklearn.metrics import recall_score, roc_auc_score, roc_curve\n",
    "from sklearn.preprocessing import StandardScaler"
   ]
  },
  {
   "cell_type": "code",
   "execution_count": 4,
   "metadata": {},
   "outputs": [],
   "source": [
    "import re"
   ]
  },
  {
   "cell_type": "code",
   "execution_count": 6,
   "metadata": {},
   "outputs": [],
   "source": [
    "data=pd.read_csv('final2222.csv')"
   ]
  },
  {
   "cell_type": "markdown",
   "metadata": {},
   "source": [
    "#  Summary statistics and visualisation"
   ]
  },
  {
   "cell_type": "code",
   "execution_count": 7,
   "metadata": {},
   "outputs": [
    {
     "data": {
      "text/html": [
       "<div>\n",
       "<style scoped>\n",
       "    .dataframe tbody tr th:only-of-type {\n",
       "        vertical-align: middle;\n",
       "    }\n",
       "\n",
       "    .dataframe tbody tr th {\n",
       "        vertical-align: top;\n",
       "    }\n",
       "\n",
       "    .dataframe thead th {\n",
       "        text-align: right;\n",
       "    }\n",
       "</style>\n",
       "<table border=\"1\" class=\"dataframe\">\n",
       "  <thead>\n",
       "    <tr style=\"text-align: right;\">\n",
       "      <th></th>\n",
       "      <th>Unnamed: 0</th>\n",
       "      <th>Movie_title</th>\n",
       "      <th>Audience_review</th>\n",
       "      <th>Critic_review</th>\n",
       "      <th>Runtime</th>\n",
       "      <th>Distributor</th>\n",
       "      <th>Covered</th>\n",
       "      <th>Actors</th>\n",
       "      <th>Producer</th>\n",
       "      <th>Cinematography</th>\n",
       "      <th>Editing</th>\n",
       "      <th>Music</th>\n",
       "    </tr>\n",
       "  </thead>\n",
       "  <tbody>\n",
       "    <tr>\n",
       "      <th>0</th>\n",
       "      <td>0</td>\n",
       "      <td>Love Ranch</td>\n",
       "      <td>28</td>\n",
       "      <td>13</td>\n",
       "      <td>117.0</td>\n",
       "      <td>0</td>\n",
       "      <td>0</td>\n",
       "      <td>0</td>\n",
       "      <td>0</td>\n",
       "      <td>0</td>\n",
       "      <td>1</td>\n",
       "      <td>0</td>\n",
       "    </tr>\n",
       "    <tr>\n",
       "      <th>1</th>\n",
       "      <td>1</td>\n",
       "      <td>Alita: Battle Angel</td>\n",
       "      <td>93</td>\n",
       "      <td>61</td>\n",
       "      <td>122.0</td>\n",
       "      <td>1</td>\n",
       "      <td>1</td>\n",
       "      <td>0</td>\n",
       "      <td>0</td>\n",
       "      <td>1</td>\n",
       "      <td>0</td>\n",
       "      <td>0</td>\n",
       "    </tr>\n",
       "    <tr>\n",
       "      <th>2</th>\n",
       "      <td>2</td>\n",
       "      <td>UglyDolls</td>\n",
       "      <td>58</td>\n",
       "      <td>27</td>\n",
       "      <td>87.0</td>\n",
       "      <td>0</td>\n",
       "      <td>1</td>\n",
       "      <td>0</td>\n",
       "      <td>0</td>\n",
       "      <td>0</td>\n",
       "      <td>0</td>\n",
       "      <td>1</td>\n",
       "    </tr>\n",
       "    <tr>\n",
       "      <th>3</th>\n",
       "      <td>5</td>\n",
       "      <td>Iron Sky: The Coming Race</td>\n",
       "      <td>27</td>\n",
       "      <td>33</td>\n",
       "      <td>92.0</td>\n",
       "      <td>0</td>\n",
       "      <td>0</td>\n",
       "      <td>0</td>\n",
       "      <td>0</td>\n",
       "      <td>0</td>\n",
       "      <td>0</td>\n",
       "      <td>0</td>\n",
       "    </tr>\n",
       "    <tr>\n",
       "      <th>4</th>\n",
       "      <td>8</td>\n",
       "      <td>Charlie Says</td>\n",
       "      <td>84</td>\n",
       "      <td>58</td>\n",
       "      <td>140.0</td>\n",
       "      <td>0</td>\n",
       "      <td>0</td>\n",
       "      <td>0</td>\n",
       "      <td>0</td>\n",
       "      <td>0</td>\n",
       "      <td>0</td>\n",
       "      <td>0</td>\n",
       "    </tr>\n",
       "  </tbody>\n",
       "</table>\n",
       "</div>"
      ],
      "text/plain": [
       "   Unnamed: 0                Movie_title Audience_review Critic_review  \\\n",
       "0           0                 Love Ranch              28            13   \n",
       "1           1        Alita: Battle Angel              93            61   \n",
       "2           2                  UglyDolls              58            27   \n",
       "3           5  Iron Sky: The Coming Race              27            33   \n",
       "4           8               Charlie Says              84            58   \n",
       "\n",
       "   Runtime  Distributor  Covered  Actors  Producer  Cinematography  Editing  \\\n",
       "0    117.0            0        0       0         0               0        1   \n",
       "1    122.0            1        1       0         0               1        0   \n",
       "2     87.0            0        1       0         0               0        0   \n",
       "3     92.0            0        0       0         0               0        0   \n",
       "4    140.0            0        0       0         0               0        0   \n",
       "\n",
       "   Music  \n",
       "0      0  \n",
       "1      0  \n",
       "2      1  \n",
       "3      0  \n",
       "4      0  "
      ]
     },
     "execution_count": 7,
     "metadata": {},
     "output_type": "execute_result"
    }
   ],
   "source": [
    "data.head()"
   ]
  },
  {
   "cell_type": "markdown",
   "metadata": {},
   "source": [
    "## Dependent variable is dividend: 1-pays dividend, 0-does not pay dividend."
   ]
  },
  {
   "cell_type": "code",
   "execution_count": 8,
   "metadata": {
    "scrolled": false
   },
   "outputs": [
    {
     "name": "stdout",
     "output_type": "stream",
     "text": [
      "<class 'pandas.core.frame.DataFrame'>\n",
      "RangeIndex: 2517 entries, 0 to 2516\n",
      "Data columns (total 12 columns):\n",
      "Unnamed: 0         2517 non-null int64\n",
      "Movie_title        2517 non-null object\n",
      "Audience_review    2517 non-null object\n",
      "Critic_review      2517 non-null object\n",
      "Runtime            2517 non-null float64\n",
      "Distributor        2517 non-null int64\n",
      "Covered            2517 non-null int64\n",
      "Actors             2517 non-null int64\n",
      "Producer           2517 non-null int64\n",
      "Cinematography     2517 non-null int64\n",
      "Editing            2517 non-null int64\n",
      "Music              2517 non-null int64\n",
      "dtypes: float64(1), int64(8), object(3)\n",
      "memory usage: 236.1+ KB\n"
     ]
    }
   ],
   "source": [
    "data.info()"
   ]
  },
  {
   "cell_type": "code",
   "execution_count": 9,
   "metadata": {},
   "outputs": [],
   "source": [
    "#data[\"Audience_review\"] = data.Audience_review.apply(lambda a: re.findall(\"\\d+\", a)[0]).apply(int)"
   ]
  },
  {
   "cell_type": "code",
   "execution_count": 10,
   "metadata": {},
   "outputs": [
    {
     "data": {
      "text/html": [
       "<div>\n",
       "<style scoped>\n",
       "    .dataframe tbody tr th:only-of-type {\n",
       "        vertical-align: middle;\n",
       "    }\n",
       "\n",
       "    .dataframe tbody tr th {\n",
       "        vertical-align: top;\n",
       "    }\n",
       "\n",
       "    .dataframe thead th {\n",
       "        text-align: right;\n",
       "    }\n",
       "</style>\n",
       "<table border=\"1\" class=\"dataframe\">\n",
       "  <thead>\n",
       "    <tr style=\"text-align: right;\">\n",
       "      <th></th>\n",
       "      <th>Unnamed: 0</th>\n",
       "      <th>Runtime</th>\n",
       "      <th>Distributor</th>\n",
       "      <th>Covered</th>\n",
       "      <th>Actors</th>\n",
       "      <th>Producer</th>\n",
       "      <th>Cinematography</th>\n",
       "      <th>Editing</th>\n",
       "      <th>Music</th>\n",
       "    </tr>\n",
       "  </thead>\n",
       "  <tbody>\n",
       "    <tr>\n",
       "      <th>count</th>\n",
       "      <td>2517.000000</td>\n",
       "      <td>2517.000000</td>\n",
       "      <td>2517.000000</td>\n",
       "      <td>2517.000000</td>\n",
       "      <td>2517.000000</td>\n",
       "      <td>2517.000000</td>\n",
       "      <td>2517.000000</td>\n",
       "      <td>2517.000000</td>\n",
       "      <td>2517.000000</td>\n",
       "    </tr>\n",
       "    <tr>\n",
       "      <th>mean</th>\n",
       "      <td>2617.810489</td>\n",
       "      <td>103.638804</td>\n",
       "      <td>0.288439</td>\n",
       "      <td>0.646007</td>\n",
       "      <td>0.176798</td>\n",
       "      <td>0.061184</td>\n",
       "      <td>0.174414</td>\n",
       "      <td>0.132698</td>\n",
       "      <td>0.274136</td>\n",
       "    </tr>\n",
       "    <tr>\n",
       "      <th>std</th>\n",
       "      <td>1428.460309</td>\n",
       "      <td>18.227213</td>\n",
       "      <td>0.453126</td>\n",
       "      <td>0.478302</td>\n",
       "      <td>0.381573</td>\n",
       "      <td>0.239715</td>\n",
       "      <td>0.379540</td>\n",
       "      <td>0.339315</td>\n",
       "      <td>0.446166</td>\n",
       "    </tr>\n",
       "    <tr>\n",
       "      <th>min</th>\n",
       "      <td>0.000000</td>\n",
       "      <td>12.000000</td>\n",
       "      <td>0.000000</td>\n",
       "      <td>0.000000</td>\n",
       "      <td>0.000000</td>\n",
       "      <td>0.000000</td>\n",
       "      <td>0.000000</td>\n",
       "      <td>0.000000</td>\n",
       "      <td>0.000000</td>\n",
       "    </tr>\n",
       "    <tr>\n",
       "      <th>25%</th>\n",
       "      <td>1388.000000</td>\n",
       "      <td>92.000000</td>\n",
       "      <td>0.000000</td>\n",
       "      <td>0.000000</td>\n",
       "      <td>0.000000</td>\n",
       "      <td>0.000000</td>\n",
       "      <td>0.000000</td>\n",
       "      <td>0.000000</td>\n",
       "      <td>0.000000</td>\n",
       "    </tr>\n",
       "    <tr>\n",
       "      <th>50%</th>\n",
       "      <td>2670.000000</td>\n",
       "      <td>100.000000</td>\n",
       "      <td>0.000000</td>\n",
       "      <td>1.000000</td>\n",
       "      <td>0.000000</td>\n",
       "      <td>0.000000</td>\n",
       "      <td>0.000000</td>\n",
       "      <td>0.000000</td>\n",
       "      <td>0.000000</td>\n",
       "    </tr>\n",
       "    <tr>\n",
       "      <th>75%</th>\n",
       "      <td>3877.000000</td>\n",
       "      <td>112.000000</td>\n",
       "      <td>1.000000</td>\n",
       "      <td>1.000000</td>\n",
       "      <td>0.000000</td>\n",
       "      <td>0.000000</td>\n",
       "      <td>0.000000</td>\n",
       "      <td>0.000000</td>\n",
       "      <td>1.000000</td>\n",
       "    </tr>\n",
       "    <tr>\n",
       "      <th>max</th>\n",
       "      <td>5006.000000</td>\n",
       "      <td>272.000000</td>\n",
       "      <td>1.000000</td>\n",
       "      <td>1.000000</td>\n",
       "      <td>1.000000</td>\n",
       "      <td>1.000000</td>\n",
       "      <td>1.000000</td>\n",
       "      <td>1.000000</td>\n",
       "      <td>1.000000</td>\n",
       "    </tr>\n",
       "  </tbody>\n",
       "</table>\n",
       "</div>"
      ],
      "text/plain": [
       "        Unnamed: 0      Runtime  Distributor      Covered       Actors  \\\n",
       "count  2517.000000  2517.000000  2517.000000  2517.000000  2517.000000   \n",
       "mean   2617.810489   103.638804     0.288439     0.646007     0.176798   \n",
       "std    1428.460309    18.227213     0.453126     0.478302     0.381573   \n",
       "min       0.000000    12.000000     0.000000     0.000000     0.000000   \n",
       "25%    1388.000000    92.000000     0.000000     0.000000     0.000000   \n",
       "50%    2670.000000   100.000000     0.000000     1.000000     0.000000   \n",
       "75%    3877.000000   112.000000     1.000000     1.000000     0.000000   \n",
       "max    5006.000000   272.000000     1.000000     1.000000     1.000000   \n",
       "\n",
       "          Producer  Cinematography      Editing        Music  \n",
       "count  2517.000000     2517.000000  2517.000000  2517.000000  \n",
       "mean      0.061184        0.174414     0.132698     0.274136  \n",
       "std       0.239715        0.379540     0.339315     0.446166  \n",
       "min       0.000000        0.000000     0.000000     0.000000  \n",
       "25%       0.000000        0.000000     0.000000     0.000000  \n",
       "50%       0.000000        0.000000     0.000000     0.000000  \n",
       "75%       0.000000        0.000000     0.000000     1.000000  \n",
       "max       1.000000        1.000000     1.000000     1.000000  "
      ]
     },
     "execution_count": 10,
     "metadata": {},
     "output_type": "execute_result"
    }
   ],
   "source": [
    "data.describe()"
   ]
  },
  {
   "cell_type": "code",
   "execution_count": 11,
   "metadata": {},
   "outputs": [
    {
     "data": {
      "image/png": "[encoded data removed]",
      "text/plain": [
       "<Figure size 432x288 with 1 Axes>"
      ]
     },
     "metadata": {},
     "output_type": "display_data"
    },
    {
     "name": "stdout",
     "output_type": "stream",
     "text": [
      "1    64.6\n",
      "0    35.4\n",
      "Name: Covered, dtype: float64\n"
     ]
    }
   ],
   "source": [
    "sns.countplot(data.Covered)\n",
    "plt.show()\n",
    "print((data.Covered.value_counts()/len(data)*100).round(2))"
   ]
  },
  {
   "cell_type": "code",
   "execution_count": 12,
   "metadata": {},
   "outputs": [
    {
     "name": "stdout",
     "output_type": "stream",
     "text": [
      "1    64.6\n",
      "0    35.4\n",
      "Name: Covered, dtype: float64\n"
     ]
    }
   ],
   "source": [
    "print((data.Covered.value_counts()/len(data)*100).round(2))"
   ]
  },
  {
   "cell_type": "code",
   "execution_count": 13,
   "metadata": {
    "scrolled": true
   },
   "outputs": [
    {
     "name": "stderr",
     "output_type": "stream",
     "text": [
      "C:\\Users\\arman\\Anaconda3\\lib\\site-packages\\matplotlib\\axes\\_axes.py:6462: UserWarning: The 'normed' kwarg is deprecated, and has been replaced by the 'density' kwarg.\n",
      "  warnings.warn(\"The 'normed' kwarg is deprecated, and has been \"\n"
     ]
    },
    {
     "data": {
      "image/png": "[encoded data removed]",
      "text/plain": [
       "<Figure size 432x288 with 1 Axes>"
      ]
     },
     "metadata": {},
     "output_type": "display_data"
    }
   ],
   "source": [
    "#plot the distribution using seaborn\n",
    "sns.distplot(data.Runtime)\n",
    "plt.show()"
   ]
  },
  {
   "cell_type": "code",
   "execution_count": 14,
   "metadata": {},
   "outputs": [
    {
     "data": {
      "image/png": "[encoded data removed]",
      "text/plain": [
       "<Figure size 432x288 with 2 Axes>"
      ]
     },
     "metadata": {},
     "output_type": "display_data"
    }
   ],
   "source": [
    "#Lets check for correlations\n",
    "sns.heatmap(data.corr().abs().round(2),annot=True)\n",
    "plt.show()\n",
    "#we can see that there are many correlated variables\n",
    "#plt.figure(figsize=(15, 7)) \n",
    "#sns.heatmap(data_numeric.corr().abs().round(2)>0.75, annot=True)\n",
    "#plt.show()"
   ]
  },
  {
   "cell_type": "code",
   "execution_count": 15,
   "metadata": {},
   "outputs": [],
   "source": [
    "data=data.drop([\"Unnamed: 0\",\"Movie_title\"],axis=1)"
   ]
  },
  {
   "cell_type": "markdown",
   "metadata": {},
   "source": [
    "#  Transform data\n"
   ]
  },
  {
   "cell_type": "code",
   "execution_count": 16,
   "metadata": {},
   "outputs": [],
   "source": [
    "#deviding into object and numeric datasets\n",
    "#data_object=data.select_dtypes(include=\"object\")\n",
    "data_numeric=data.select_dtypes(exclude=\"object\")"
   ]
  },
  {
   "cell_type": "code",
   "execution_count": 17,
   "metadata": {
    "scrolled": true
   },
   "outputs": [
    {
     "ename": "NameError",
     "evalue": "name 'data_object' is not defined",
     "output_type": "error",
     "traceback": [
      "\u001b[1;31m---------------------------------------------------------------------------\u001b[0m",
      "\u001b[1;31mNameError\u001b[0m                                 Traceback (most recent call last)",
      "\u001b[1;32m<ipython-input-17-858db1639315>\u001b[0m in \u001b[0;36m<module>\u001b[1;34m()\u001b[0m\n\u001b[0;32m      1\u001b[0m \u001b[1;31m#let's check number of uniques values of object variables\u001b[0m\u001b[1;33m\u001b[0m\u001b[1;33m\u001b[0m\u001b[1;33m\u001b[0m\u001b[0m\n\u001b[1;32m----> 2\u001b[1;33m \u001b[0mprint\u001b[0m\u001b[1;33m(\u001b[0m\u001b[1;33m[\u001b[0m\u001b[0mdata_object\u001b[0m\u001b[1;33m[\u001b[0m\u001b[0mi\u001b[0m\u001b[1;33m]\u001b[0m\u001b[1;33m.\u001b[0m\u001b[0mvalue_counts\u001b[0m\u001b[1;33m(\u001b[0m\u001b[1;33m)\u001b[0m \u001b[1;32mfor\u001b[0m \u001b[0mi\u001b[0m \u001b[1;32min\u001b[0m \u001b[0mdata_object\u001b[0m\u001b[1;33m.\u001b[0m\u001b[0mcolumns\u001b[0m\u001b[1;33m]\u001b[0m\u001b[1;33m)\u001b[0m\u001b[1;33m\u001b[0m\u001b[1;33m\u001b[0m\u001b[0m\n\u001b[0m",
      "\u001b[1;31mNameError\u001b[0m: name 'data_object' is not defined"
     ]
    }
   ],
   "source": [
    "#let's check number of uniques values of object variables\n",
    "print([data_object[i].value_counts() for i in data_object.columns])"
   ]
  },
  {
   "cell_type": "code",
   "execution_count": 18,
   "metadata": {},
   "outputs": [
    {
     "name": "stdout",
     "output_type": "stream",
     "text": [
      "Runtime           False\n",
      "Distributor       False\n",
      "Covered           False\n",
      "Actors            False\n",
      "Producer          False\n",
      "Cinematography    False\n",
      "Editing           False\n",
      "Music             False\n",
      "dtype: bool\n"
     ]
    }
   ],
   "source": [
    "#let's check for 0 variance of numeric variables\n",
    "print(data_numeric.var()==0)"
   ]
  },
  {
   "cell_type": "code",
   "execution_count": 19,
   "metadata": {
    "scrolled": true
   },
   "outputs": [],
   "source": [
    "#for i in data_object.columns:\n",
    " #   print(data_object[i].unique())"
   ]
  },
  {
   "cell_type": "code",
   "execution_count": 20,
   "metadata": {},
   "outputs": [],
   "source": [
    "# data_numeric.drop([\"ID\",\"age\"],axis=1,inplace=True) if we want to drop something"
   ]
  },
  {
   "cell_type": "code",
   "execution_count": 21,
   "metadata": {},
   "outputs": [],
   "source": [
    "#making object variables into dummies, join back datasets\n",
    "#data_dummies=pd.get_dummies(data_object,drop_first=True)\n",
    "#data_final=data_dummies.join(data_numeric)\n",
    "data_final=data_numeric\n",
    "X=data_final.drop(\"Covered\",axis=1)\n",
    "Y=data_final.Covered\n",
    "x_train,x_test,y_train,y_test=train_test_split(X,Y,test_size=0.25,random_state=42)# train-test split"
   ]
  },
  {
   "cell_type": "markdown",
   "metadata": {},
   "source": [
    "#  4 Modeling\n"
   ]
  },
  {
   "cell_type": "markdown",
   "metadata": {},
   "source": [
    "##  Lets create 3 models:\n",
    "\n",
    "Model 1-Logistic Regression from statsmodel\n",
    "\n",
    "Model 2-Logistic Regression from sklearn\n",
    "\n",
    "Model 3-Decision Tree Classification"
   ]
  },
  {
   "cell_type": "markdown",
   "metadata": {},
   "source": [
    "# Model 1.Logistic Regression from statsmodel"
   ]
  },
  {
   "cell_type": "code",
   "execution_count": 22,
   "metadata": {},
   "outputs": [
    {
     "data": {
      "text/plain": [
       "'Covered~Runtime+Distributor+Actors+Producer+Cinematography+Editing+Music'"
      ]
     },
     "execution_count": 22,
     "metadata": {},
     "output_type": "execute_result"
    }
   ],
   "source": [
    "formula=\"Covered~\"+\"+\".join(X.columns)\n",
    "formula"
   ]
  },
  {
   "cell_type": "code",
   "execution_count": 23,
   "metadata": {},
   "outputs": [
    {
     "name": "stdout",
     "output_type": "stream",
     "text": [
      "Optimization terminated successfully.\n",
      "         Current function value: 0.646728\n",
      "         Iterations 5\n"
     ]
    },
    {
     "data": {
      "text/html": [
       "<table class=\"simpletable\">\n",
       "<caption>Logit Regression Results</caption>\n",
       "<tr>\n",
       "  <th>Dep. Variable:</th>      <td>Covered</td>     <th>  No. Observations:  </th>  <td>  2517</td> \n",
       "</tr>\n",
       "<tr>\n",
       "  <th>Model:</th>               <td>Logit</td>      <th>  Df Residuals:      </th>  <td>  2509</td> \n",
       "</tr>\n",
       "<tr>\n",
       "  <th>Method:</th>               <td>MLE</td>       <th>  Df Model:          </th>  <td>     7</td> \n",
       "</tr>\n",
       "<tr>\n",
       "  <th>Date:</th>          <td>Fri, 16 Aug 2019</td> <th>  Pseudo R-squ.:     </th> <td>0.004855</td>\n",
       "</tr>\n",
       "<tr>\n",
       "  <th>Time:</th>              <td>19:56:04</td>     <th>  Log-Likelihood:    </th> <td> -1627.8</td>\n",
       "</tr>\n",
       "<tr>\n",
       "  <th>converged:</th>           <td>True</td>       <th>  LL-Null:           </th> <td> -1635.8</td>\n",
       "</tr>\n",
       "<tr>\n",
       "  <th> </th>                      <td> </td>        <th>  LLR p-value:       </th>  <td>0.02621</td>\n",
       "</tr>\n",
       "</table>\n",
       "<table class=\"simpletable\">\n",
       "<tr>\n",
       "         <td></td>           <th>coef</th>     <th>std err</th>      <th>z</th>      <th>P>|z|</th>  <th>[0.025</th>    <th>0.975]</th>  \n",
       "</tr>\n",
       "<tr>\n",
       "  <th>Intercept</th>      <td>    0.3336</td> <td>    0.245</td> <td>    1.359</td> <td> 0.174</td> <td>   -0.147</td> <td>    0.815</td>\n",
       "</tr>\n",
       "<tr>\n",
       "  <th>Runtime</th>        <td>    0.0026</td> <td>    0.002</td> <td>    1.085</td> <td> 0.278</td> <td>   -0.002</td> <td>    0.007</td>\n",
       "</tr>\n",
       "<tr>\n",
       "  <th>Distributor</th>    <td>    0.2704</td> <td>    0.096</td> <td>    2.803</td> <td> 0.005</td> <td>    0.081</td> <td>    0.459</td>\n",
       "</tr>\n",
       "<tr>\n",
       "  <th>Actors</th>         <td>   -0.1688</td> <td>    0.111</td> <td>   -1.520</td> <td> 0.128</td> <td>   -0.386</td> <td>    0.049</td>\n",
       "</tr>\n",
       "<tr>\n",
       "  <th>Producer</th>       <td>   -0.3877</td> <td>    0.173</td> <td>   -2.247</td> <td> 0.025</td> <td>   -0.726</td> <td>   -0.050</td>\n",
       "</tr>\n",
       "<tr>\n",
       "  <th>Cinematography</th> <td>   -0.0919</td> <td>    0.114</td> <td>   -0.808</td> <td> 0.419</td> <td>   -0.315</td> <td>    0.131</td>\n",
       "</tr>\n",
       "<tr>\n",
       "  <th>Editing</th>        <td>    0.0041</td> <td>    0.128</td> <td>    0.032</td> <td> 0.975</td> <td>   -0.247</td> <td>    0.255</td>\n",
       "</tr>\n",
       "<tr>\n",
       "  <th>Music</th>          <td>   -0.0157</td> <td>    0.100</td> <td>   -0.157</td> <td> 0.875</td> <td>   -0.212</td> <td>    0.181</td>\n",
       "</tr>\n",
       "</table>"
      ],
      "text/plain": [
       "<class 'statsmodels.iolib.summary.Summary'>\n",
       "\"\"\"\n",
       "                           Logit Regression Results                           \n",
       "==============================================================================\n",
       "Dep. Variable:                Covered   No. Observations:                 2517\n",
       "Model:                          Logit   Df Residuals:                     2509\n",
       "Method:                           MLE   Df Model:                            7\n",
       "Date:                Fri, 16 Aug 2019   Pseudo R-squ.:                0.004855\n",
       "Time:                        19:56:04   Log-Likelihood:                -1627.8\n",
       "converged:                       True   LL-Null:                       -1635.8\n",
       "                                        LLR p-value:                   0.02621\n",
       "==================================================================================\n",
       "                     coef    std err          z      P>|z|      [0.025      0.975]\n",
       "----------------------------------------------------------------------------------\n",
       "Intercept          0.3336      0.245      1.359      0.174      -0.147       0.815\n",
       "Runtime            0.0026      0.002      1.085      0.278      -0.002       0.007\n",
       "Distributor        0.2704      0.096      2.803      0.005       0.081       0.459\n",
       "Actors            -0.1688      0.111     -1.520      0.128      -0.386       0.049\n",
       "Producer          -0.3877      0.173     -2.247      0.025      -0.726      -0.050\n",
       "Cinematography    -0.0919      0.114     -0.808      0.419      -0.315       0.131\n",
       "Editing            0.0041      0.128      0.032      0.975      -0.247       0.255\n",
       "Music             -0.0157      0.100     -0.157      0.875      -0.212       0.181\n",
       "==================================================================================\n",
       "\"\"\""
      ]
     },
     "execution_count": 23,
     "metadata": {},
     "output_type": "execute_result"
    }
   ],
   "source": [
    "model1=Logit.from_formula(formula=formula,data=data_final).fit()\n",
    "model1.summary()"
   ]
  },
  {
   "cell_type": "code",
   "execution_count": 24,
   "metadata": {},
   "outputs": [
    {
     "name": "stdout",
     "output_type": "stream",
     "text": [
      "Intercept         False\n",
      "Runtime           False\n",
      "Distributor        True\n",
      "Actors            False\n",
      "Producer           True\n",
      "Cinematography    False\n",
      "Editing           False\n",
      "Music             False\n",
      "dtype: bool\n"
     ]
    }
   ],
   "source": [
    "print(model1.pvalues<=0.05)"
   ]
  },
  {
   "cell_type": "code",
   "execution_count": 25,
   "metadata": {},
   "outputs": [
    {
     "data": {
      "text/html": [
       "<div>\n",
       "<style scoped>\n",
       "    .dataframe tbody tr th:only-of-type {\n",
       "        vertical-align: middle;\n",
       "    }\n",
       "\n",
       "    .dataframe tbody tr th {\n",
       "        vertical-align: top;\n",
       "    }\n",
       "\n",
       "    .dataframe thead th {\n",
       "        text-align: right;\n",
       "    }\n",
       "</style>\n",
       "<table border=\"1\" class=\"dataframe\">\n",
       "  <thead>\n",
       "    <tr style=\"text-align: right;\">\n",
       "      <th></th>\n",
       "      <th>Parameter</th>\n",
       "      <th>coef</th>\n",
       "    </tr>\n",
       "  </thead>\n",
       "  <tbody>\n",
       "    <tr>\n",
       "      <th>2</th>\n",
       "      <td>Distributor</td>\n",
       "      <td>0.2704</td>\n",
       "    </tr>\n",
       "    <tr>\n",
       "      <th>4</th>\n",
       "      <td>Producer</td>\n",
       "      <td>-0.3877</td>\n",
       "    </tr>\n",
       "  </tbody>\n",
       "</table>\n",
       "</div>"
      ],
      "text/plain": [
       "     Parameter    coef\n",
       "2  Distributor  0.2704\n",
       "4     Producer -0.3877"
      ]
     },
     "execution_count": 25,
     "metadata": {},
     "output_type": "execute_result"
    }
   ],
   "source": [
    "#making summary as dataframe to manipulate easily\n",
    "log_summary=pd.read_html(model1.summary().tables[1].as_html(),header=0)[0]\n",
    "log_summary=log_summary.rename(columns={\"Unnamed: 0\":\"Parameter\"})\n",
    "log_summary[[\"Parameter\",\"coef\"]][(log_summary[\"P>|z|\"]<=0.05)] "
   ]
  },
  {
   "cell_type": "markdown",
   "metadata": {},
   "source": [
    "## Let's get marginal effects to be able to interpret how much each variable changes the probability of churning."
   ]
  },
  {
   "cell_type": "code",
   "execution_count": 26,
   "metadata": {},
   "outputs": [
    {
     "data": {
      "text/html": [
       "<table class=\"simpletable\">\n",
       "<caption>Logit Marginal Effects</caption>\n",
       "<tr>\n",
       "  <th>Dep. Variable:</th> <td>Covered</td>\n",
       "</tr>\n",
       "<tr>\n",
       "  <th>Method:</th>         <td>dydx</td>  \n",
       "</tr>\n",
       "<tr>\n",
       "  <th>At:</th>            <td>overall</td>\n",
       "</tr>\n",
       "</table>\n",
       "<table class=\"simpletable\">\n",
       "<tr>\n",
       "         <th></th>           <th>dy/dx</th>    <th>std err</th>      <th>z</th>      <th>P>|z|</th>  <th>[0.025</th>    <th>0.975]</th>  \n",
       "</tr>\n",
       "<tr>\n",
       "  <th>Runtime</th>        <td>    0.0006</td> <td>    0.001</td> <td>    1.086</td> <td> 0.277</td> <td>   -0.000</td> <td>    0.002</td>\n",
       "</tr>\n",
       "<tr>\n",
       "  <th>Distributor</th>    <td>    0.0614</td> <td>    0.022</td> <td>    2.819</td> <td> 0.005</td> <td>    0.019</td> <td>    0.104</td>\n",
       "</tr>\n",
       "<tr>\n",
       "  <th>Actors</th>         <td>   -0.0383</td> <td>    0.025</td> <td>   -1.523</td> <td> 0.128</td> <td>   -0.088</td> <td>    0.011</td>\n",
       "</tr>\n",
       "<tr>\n",
       "  <th>Producer</th>       <td>   -0.0881</td> <td>    0.039</td> <td>   -2.256</td> <td> 0.024</td> <td>   -0.165</td> <td>   -0.012</td>\n",
       "</tr>\n",
       "<tr>\n",
       "  <th>Cinematography</th> <td>   -0.0209</td> <td>    0.026</td> <td>   -0.808</td> <td> 0.419</td> <td>   -0.071</td> <td>    0.030</td>\n",
       "</tr>\n",
       "<tr>\n",
       "  <th>Editing</th>        <td>    0.0009</td> <td>    0.029</td> <td>    0.032</td> <td> 0.975</td> <td>   -0.056</td> <td>    0.058</td>\n",
       "</tr>\n",
       "<tr>\n",
       "  <th>Music</th>          <td>   -0.0036</td> <td>    0.023</td> <td>   -0.157</td> <td> 0.875</td> <td>   -0.048</td> <td>    0.041</td>\n",
       "</tr>\n",
       "</table>"
      ],
      "text/plain": [
       "<class 'statsmodels.iolib.summary.Summary'>\n",
       "\"\"\"\n",
       "        Logit Marginal Effects       \n",
       "=====================================\n",
       "Dep. Variable:                Covered\n",
       "Method:                          dydx\n",
       "At:                           overall\n",
       "==================================================================================\n",
       "                    dy/dx    std err          z      P>|z|      [0.025      0.975]\n",
       "----------------------------------------------------------------------------------\n",
       "Runtime            0.0006      0.001      1.086      0.277      -0.000       0.002\n",
       "Distributor        0.0614      0.022      2.819      0.005       0.019       0.104\n",
       "Actors            -0.0383      0.025     -1.523      0.128      -0.088       0.011\n",
       "Producer          -0.0881      0.039     -2.256      0.024      -0.165      -0.012\n",
       "Cinematography    -0.0209      0.026     -0.808      0.419      -0.071       0.030\n",
       "Editing            0.0009      0.029      0.032      0.975      -0.056       0.058\n",
       "Music             -0.0036      0.023     -0.157      0.875      -0.048       0.041\n",
       "==================================================================================\n",
       "\"\"\""
      ]
     },
     "execution_count": 26,
     "metadata": {},
     "output_type": "execute_result"
    }
   ],
   "source": [
    "model1.get_margeff().summary() "
   ]
  },
  {
   "cell_type": "code",
   "execution_count": 27,
   "metadata": {},
   "outputs": [
    {
     "data": {
      "text/html": [
       "<div>\n",
       "<style scoped>\n",
       "    .dataframe tbody tr th:only-of-type {\n",
       "        vertical-align: middle;\n",
       "    }\n",
       "\n",
       "    .dataframe tbody tr th {\n",
       "        vertical-align: top;\n",
       "    }\n",
       "\n",
       "    .dataframe thead th {\n",
       "        text-align: right;\n",
       "    }\n",
       "</style>\n",
       "<table border=\"1\" class=\"dataframe\">\n",
       "  <thead>\n",
       "    <tr style=\"text-align: right;\">\n",
       "      <th></th>\n",
       "      <th>Parameter</th>\n",
       "      <th>dy/dx</th>\n",
       "    </tr>\n",
       "  </thead>\n",
       "  <tbody>\n",
       "    <tr>\n",
       "      <th>1</th>\n",
       "      <td>Distributor</td>\n",
       "      <td>0.0614</td>\n",
       "    </tr>\n",
       "    <tr>\n",
       "      <th>3</th>\n",
       "      <td>Producer</td>\n",
       "      <td>-0.0881</td>\n",
       "    </tr>\n",
       "  </tbody>\n",
       "</table>\n",
       "</div>"
      ],
      "text/plain": [
       "     Parameter   dy/dx\n",
       "1  Distributor  0.0614\n",
       "3     Producer -0.0881"
      ]
     },
     "execution_count": 27,
     "metadata": {},
     "output_type": "execute_result"
    }
   ],
   "source": [
    "marg_summary=pd.read_html(model1.get_margeff().summary().tables[1].as_html(),header=0)[0]\n",
    "marg_summary=marg_summary.rename(columns={\"Unnamed: 0\":\"Parameter\"})\n",
    "marg_summary[[\"Parameter\",\"dy/dx\"]][(marg_summary[\"P>|z|\"]<=0.05)] "
   ]
  },
  {
   "cell_type": "markdown",
   "metadata": {},
   "source": [
    "## Interpreting for categorical variable: employee having low salary has on average 26.8% higher probability to churn copared employee who has high salary.\n",
    "\n",
    "\n",
    "## Interpreting for continous variable: Incremental increase in promotion last 5 years decreases the probability of being churn on average by 19.7% when other factors held constant.\n"
   ]
  },
  {
   "cell_type": "markdown",
   "metadata": {},
   "source": [
    "# Model Fitting\n"
   ]
  },
  {
   "cell_type": "code",
   "execution_count": 28,
   "metadata": {},
   "outputs": [
    {
     "data": {
      "text/plain": [
       "GridSearchCV(cv=5, error_score='raise',\n",
       "       estimator=LogisticRegression(C=1.0, class_weight='balanced', dual=False,\n",
       "          fit_intercept=True, intercept_scaling=1, max_iter=100,\n",
       "          multi_class='ovr', n_jobs=1, penalty='l2', random_state=42,\n",
       "          solver='liblinear', tol=0.0001, verbose=0, warm_start=False),\n",
       "       fit_params=None, iid=True, n_jobs=-1,\n",
       "       param_grid={'C': array([1.00000e-04, 4.17625e-02, 8.34250e-02, 1.25087e-01, 1.66750e-01,\n",
       "       2.08412e-01, 2.50075e-01, 2.91737e-01, 3.33400e-01, 3.75062e-01,\n",
       "       4.16725e-01, 4.58387e-01, 5.00050e-01, 5.41712e-01, 5.83375e-01,\n",
       "       6.25037e-01, 6.66700e-01, 7.08363e-01, 7.50025e-01, 7.91687e-01,\n",
       "       8.33350e-01, 8.75012e-01, 9.16675e-01, 9.58337e-01, 1.00000e+00]), 'penalty': ['l1', 'l2']},\n",
       "       pre_dispatch='2*n_jobs', refit=True, return_train_score='warn',\n",
       "       scoring='roc_auc', verbose=0)"
      ]
     },
     "execution_count": 28,
     "metadata": {},
     "output_type": "execute_result"
    }
   ],
   "source": [
    "#getting best parameters for Logit \n",
    "\n",
    "\n",
    "grid_search1=GridSearchCV(LogisticRegression(random_state=42,class_weight=\"balanced\"),\n",
    "                          param_grid={\"C\":np.linspace(0.0001,1,25),\"penalty\":[\"l1\",\"l2\"]},scoring=\"roc_auc\",cv=5,n_jobs=-1)\n",
    "grid_search1.fit(X,Y)"
   ]
  },
  {
   "cell_type": "code",
   "execution_count": 29,
   "metadata": {},
   "outputs": [
    {
     "data": {
      "text/plain": [
       "LogisticRegression(C=1, class_weight='balanced', dual=False,\n",
       "          fit_intercept=True, intercept_scaling=1, max_iter=100,\n",
       "          multi_class='ovr', n_jobs=1, penalty='l2', random_state=42,\n",
       "          solver='liblinear', tol=0.0001, verbose=0, warm_start=False)"
      ]
     },
     "execution_count": 29,
     "metadata": {},
     "output_type": "execute_result"
    }
   ],
   "source": [
    "logit1=LogisticRegression(C=1,penalty='l2', random_state=42,class_weight=\"balanced\")\n",
    "logit1.fit(x_train,y_train)"
   ]
  },
  {
   "cell_type": "code",
   "execution_count": 30,
   "metadata": {},
   "outputs": [],
   "source": [
    "# gridsearch for decision tree\n",
    "gridsearch2=GridSearchCV(DecisionTreeClassifier(random_state=42),param_grid={\"max_depth\":(5,15),\"min_samples_leaf\":(20,100),\n",
    "                                                                             \"class_weight\":[\"balanced\"]},\n",
    "                                                                scoring=\"roc_auc\",\n",
    "                                                                cv=5,n_jobs=-1).fit(X,Y)"
   ]
  },
  {
   "cell_type": "code",
   "execution_count": 31,
   "metadata": {},
   "outputs": [
    {
     "name": "stdout",
     "output_type": "stream",
     "text": [
      "Best parameters: {'class_weight': 'balanced', 'max_depth': 5, 'min_samples_leaf': 20}\n",
      "Best score: 51.0\n"
     ]
    }
   ],
   "source": [
    "print(\"Best parameters:\",gridsearch2.best_params_)\n",
    "print(\"Best score:\",gridsearch2.best_score_.round(2)*100)"
   ]
  },
  {
   "cell_type": "code",
   "execution_count": 32,
   "metadata": {},
   "outputs": [],
   "source": [
    "tree1=DecisionTreeClassifier(class_weight='balanced',random_state=42,max_depth=5,min_samples_leaf=20).fit(x_train,y_train)"
   ]
  },
  {
   "cell_type": "markdown",
   "metadata": {},
   "source": [
    "# Model Evaluation\n"
   ]
  },
  {
   "cell_type": "markdown",
   "metadata": {},
   "source": [
    "### Confusion matrix\n"
   ]
  },
  {
   "cell_type": "code",
   "execution_count": 33,
   "metadata": {},
   "outputs": [
    {
     "data": {
      "image/png": "[encoded data removed]",
      "text/plain": [
       "<Figure size 432x288 with 2 Axes>"
      ]
     },
     "metadata": {},
     "output_type": "display_data"
    },
    {
     "data": {
      "image/png": "[encoded data removed]",
      "text/plain": [
       "<Figure size 432x288 with 2 Axes>"
      ]
     },
     "metadata": {},
     "output_type": "display_data"
    }
   ],
   "source": [
    "#let's print confusion matrix for logit and decision tree\n",
    "for i in [logit1,tree1]:\n",
    "    sns.heatmap(confusion_matrix(y_test,i.predict(x_test)).T,annot=True)\n",
    "    plt.xlabel(\"Real\")\n",
    "    plt.ylabel(\"predic\")\n",
    "    plt.show()"
   ]
  },
  {
   "cell_type": "markdown",
   "metadata": {},
   "source": [
    "## Classification report"
   ]
  },
  {
   "cell_type": "code",
   "execution_count": 34,
   "metadata": {},
   "outputs": [
    {
     "name": "stdout",
     "output_type": "stream",
     "text": [
      "             precision    recall  f1-score   support\n",
      "\n",
      "          0       0.37      0.52      0.43       209\n",
      "          1       0.70      0.57      0.63       421\n",
      "\n",
      "avg / total       0.59      0.55      0.56       630\n",
      "\n",
      "             precision    recall  f1-score   support\n",
      "\n",
      "          0       0.33      0.68      0.44       209\n",
      "          1       0.67      0.32      0.43       421\n",
      "\n",
      "avg / total       0.55      0.44      0.43       630\n",
      "\n"
     ]
    }
   ],
   "source": [
    "for i in [logit1,tree1]:\n",
    "    print(classification_report(y_test,i.predict(x_test)))"
   ]
  },
  {
   "cell_type": "markdown",
   "metadata": {},
   "source": [
    "## Roc_AUC, Accuracy, Recall\n"
   ]
  },
  {
   "cell_type": "code",
   "execution_count": 36,
   "metadata": {},
   "outputs": [
    {
     "name": "stdout",
     "output_type": "stream",
     "text": [
      "Train: 54.0\n",
      "Test: 55.00000000000001\n",
      "Recall for Logit: 54.0\n",
      "Recall for Logit: 56.99999999999999\n",
      "roc_auc:1 54.0\n",
      "roc_auc:1 54.0\n",
      "Train: 51.0\n",
      "Test: 44.0\n",
      "Recall for DC 1: 36.0\n",
      "Recall for DC 1: 32.0\n",
      "roc_auc:1 56.99999999999999\n",
      "roc_auc:1 50.0\n"
     ]
    }
   ],
   "source": [
    "#Logistic Regression\n",
    "print(\"Train:\",logit1.score(x_train,y_train).round(2)*100)\n",
    "print(\"Test:\",logit1.score(x_test,y_test).round(2)*100)\n",
    "ypred1=logit1.predict(x_train)\n",
    "ypred2=logit1.predict(x_test)\n",
    "print('Recall for Logit:',recall_score(y_train,ypred1).round(2)*100)\n",
    "print(\"Recall for Logit:\",recall_score(y_test,ypred2).round(2)*100)\n",
    "print('roc_auc:1',roc_auc_score(y_train,ypred1).round(2)*100)\n",
    "print('roc_auc:1',roc_auc_score(y_test,ypred2).round(2)*100)\n",
    "\n",
    "\n",
    "#Decision Tree\n",
    "print(\"Train:\",tree1.score(x_train,y_train).round(2)*100)\n",
    "print(\"Test:\",tree1.score(x_test,y_test).round(2)*100)\n",
    "ypred3=tree1.predict(x_train)\n",
    "ypred4=tree1.predict(x_test)\n",
    "print('Recall for DC 1:',recall_score(y_train,ypred3).round(2)*100)\n",
    "print(\"Recall for DC 1:\",recall_score(y_test,ypred4).round(2)*100)\n",
    "print('roc_auc:1',roc_auc_score(y_train,ypred3).round(2)*100)\n",
    "print('roc_auc:1',roc_auc_score(y_test,ypred4).round(2)*100)"
   ]
  },
  {
   "cell_type": "markdown",
   "metadata": {},
   "source": [
    "## Avereage cross validation roc_auc\n"
   ]
  },
  {
   "cell_type": "code",
   "execution_count": 98,
   "metadata": {},
   "outputs": [
    {
     "name": "stdout",
     "output_type": "stream",
     "text": [
      "Logit Avereage cross validation roc_auc: 0.5611785914332758\n",
      "Tree Avereage cross validation roc_auc: 0.49424485323482253\n"
     ]
    }
   ],
   "source": [
    "print(\"Logit Avereage cross validation roc_auc:\", grid_search1.best_score_)\n",
    "print(\"Tree Avereage cross validation roc_auc:\", gridsearch2.best_score_)"
   ]
  },
  {
   "cell_type": "markdown",
   "metadata": {},
   "source": [
    "# ROC Curve\n"
   ]
  },
  {
   "cell_type": "markdown",
   "metadata": {},
   "source": [
    "## Logit"
   ]
  },
  {
   "cell_type": "code",
   "execution_count": 99,
   "metadata": {},
   "outputs": [
    {
     "name": "stdout",
     "output_type": "stream",
     "text": [
      "[0.         0.00478469 0.00478469 0.00956938 0.00956938 0.01435407\n",
      " 0.01435407 0.01913876 0.01913876 0.02870813 0.02870813 0.03349282\n",
      " 0.03349282 0.03827751 0.03827751 0.0430622  0.0430622  0.07177033\n",
      " 0.07177033 0.07655502 0.07655502 0.0861244  0.0861244  0.09569378\n",
      " 0.09569378 0.10047847 0.10047847 0.10526316 0.10526316 0.11004785\n",
      " 0.11004785 0.11483254 0.11483254 0.12440191 0.12440191 0.1291866\n",
      " 0.1291866  0.13875598 0.13875598 0.14354067 0.14354067 0.14832536\n",
      " 0.14832536 0.15789474 0.15789474 0.16746411 0.16746411 0.1722488\n",
      " 0.1722488  0.18181818 0.18181818 0.18660287 0.18660287 0.19138756\n",
      " 0.19138756 0.20095694 0.20095694 0.20574163 0.20574163 0.21052632\n",
      " 0.21052632 0.215311   0.215311   0.22488038 0.22488038 0.22966507\n",
      " 0.22966507 0.23444976 0.23444976 0.24401914 0.24401914 0.24880383\n",
      " 0.24880383 0.25837321 0.25837321 0.26315789 0.26315789 0.26794258\n",
      " 0.26794258 0.27272727 0.27272727 0.27751196 0.27751196 0.28229665\n",
      " 0.28229665 0.29186603 0.29186603 0.30143541 0.30143541 0.3062201\n",
      " 0.3062201  0.31100478 0.31100478 0.31578947 0.31578947 0.32057416\n",
      " 0.32057416 0.32535885 0.32535885 0.33014354 0.33014354 0.33971292\n",
      " 0.33971292 0.35885167 0.35885167 0.36363636 0.36363636 0.36842105\n",
      " 0.36842105 0.37320574 0.37320574 0.37799043 0.37799043 0.38277512\n",
      " 0.38277512 0.3923445  0.3923445  0.39712919 0.39712919 0.40191388\n",
      " 0.40191388 0.40669856 0.40669856 0.41626794 0.41626794 0.42105263\n",
      " 0.42105263 0.42583732 0.42583732 0.44019139 0.44019139 0.44497608\n",
      " 0.44497608 0.44976077 0.44976077 0.45454545 0.45454545 0.46411483\n",
      " 0.46411483 0.46889952 0.46889952 0.47368421 0.47368421 0.4784689\n",
      " 0.4784689  0.48325359 0.48325359 0.49282297 0.49282297 0.49760766\n",
      " 0.49760766 0.50239234 0.50239234 0.50717703 0.50717703 0.51196172\n",
      " 0.51196172 0.51674641 0.51674641 0.5215311  0.5215311  0.52631579\n",
      " 0.52631579 0.53110048 0.53110048 0.53588517 0.53588517 0.54066986\n",
      " 0.54066986 0.54545455 0.54545455 0.55502392 0.55502392 0.5645933\n",
      " 0.5645933  0.59330144 0.59330144 0.60287081 0.60287081 0.61244019\n",
      " 0.61244019 0.61722488 0.61722488 0.62200957 0.62200957 0.63157895\n",
      " 0.63157895 0.64114833 0.64114833 0.64593301 0.64593301 0.6507177\n",
      " 0.6507177  0.65550239 0.65550239 0.66028708 0.66028708 0.66507177\n",
      " 0.66507177 0.66985646 0.66985646 0.67464115 0.67464115 0.67942584\n",
      " 0.67942584 0.68421053 0.68421053 0.68899522 0.68899522 0.6937799\n",
      " 0.6937799  0.70813397 0.70813397 0.71291866 0.71291866 0.71770335\n",
      " 0.71770335 0.72248804 0.72248804 0.72727273 0.72727273 0.73205742\n",
      " 0.73205742 0.73684211 0.73684211 0.74162679 0.74162679 0.75119617\n",
      " 0.75119617 0.75598086 0.75598086 0.76076555 0.76076555 0.77033493\n",
      " 0.77033493 0.79425837 0.79425837 0.79904306 0.79904306 0.80861244\n",
      " 0.80861244 0.81339713 0.81339713 0.81818182 0.81818182 0.82296651\n",
      " 0.82296651 0.8277512  0.8277512  0.83253589 0.83253589 0.83732057\n",
      " 0.83732057 0.84210526 0.84210526 0.84688995 0.84688995 0.85167464\n",
      " 0.85167464 0.85645933 0.85645933 0.86124402 0.86124402 0.86602871\n",
      " 0.86602871 0.87559809 0.87559809 0.88038278 0.88038278 0.88516746\n",
      " 0.88516746 0.88995215 0.88995215 0.89952153 0.89952153 0.90909091\n",
      " 0.90909091 0.9138756  0.9138756  0.91866029 0.91866029 0.92822967\n",
      " 0.92822967 0.93301435 0.93301435 0.94258373 0.94258373 0.94736842\n",
      " 0.94736842 0.9569378  0.9569378  0.97607656 0.97607656 0.98564593\n",
      " 0.98564593 0.99521531 0.99521531 1.         1.        ] [0.0023753  0.0023753  0.00475059 0.00475059 0.00950119 0.00950119\n",
      " 0.01425178 0.01425178 0.03087886 0.03087886 0.05225653 0.05225653\n",
      " 0.05463183 0.05463183 0.05700713 0.05700713 0.07125891 0.07125891\n",
      " 0.0736342  0.0736342  0.0783848  0.0783848  0.09026128 0.09026128\n",
      " 0.09738717 0.09738717 0.09976247 0.09976247 0.10451306 0.10451306\n",
      " 0.11876485 0.11876485 0.13064133 0.13064133 0.13301663 0.13301663\n",
      " 0.14726841 0.14726841 0.17102138 0.17102138 0.18527316 0.18527316\n",
      " 0.18764846 0.18764846 0.21852732 0.21852732 0.22327791 0.22327791\n",
      " 0.2304038  0.2304038  0.24465558 0.24465558 0.24703088 0.24703088\n",
      " 0.24940618 0.24940618 0.25890736 0.25890736 0.27315914 0.27315914\n",
      " 0.27790974 0.27790974 0.28503563 0.28503563 0.28741093 0.28741093\n",
      " 0.29216152 0.29216152 0.29928741 0.29928741 0.3064133  0.3064133\n",
      " 0.3111639  0.3111639  0.31591449 0.31591449 0.32066508 0.32066508\n",
      " 0.32779097 0.32779097 0.33016627 0.33016627 0.33254157 0.33254157\n",
      " 0.34441805 0.34441805 0.36342043 0.36342043 0.36579572 0.36579572\n",
      " 0.36817102 0.36817102 0.37767221 0.37767221 0.38004751 0.38004751\n",
      " 0.3824228  0.3824228  0.3847981  0.3847981  0.41092637 0.41092637\n",
      " 0.41805226 0.41805226 0.42992874 0.42992874 0.43230404 0.43230404\n",
      " 0.43467933 0.43467933 0.43942993 0.43942993 0.45130641 0.45130641\n",
      " 0.45368171 0.45368171 0.4584323  0.4584323  0.47030879 0.47030879\n",
      " 0.47268409 0.47268409 0.47505938 0.47505938 0.48218527 0.48218527\n",
      " 0.48931116 0.48931116 0.49643705 0.49643705 0.51306413 0.51306413\n",
      " 0.51781473 0.51781473 0.52969121 0.52969121 0.53444181 0.53444181\n",
      " 0.5391924  0.5391924  0.55344418 0.55344418 0.55581948 0.55581948\n",
      " 0.55819477 0.55819477 0.57244656 0.57244656 0.57482185 0.57482185\n",
      " 0.58194774 0.58194774 0.58432304 0.58432304 0.59144893 0.59144893\n",
      " 0.59382423 0.59382423 0.59619952 0.59619952 0.60807601 0.60807601\n",
      " 0.6128266  0.6128266  0.61995249 0.61995249 0.62232779 0.62232779\n",
      " 0.62470309 0.62470309 0.62707838 0.62707838 0.63182898 0.63182898\n",
      " 0.63895487 0.63895487 0.64845606 0.64845606 0.65083135 0.65083135\n",
      " 0.65320665 0.65320665 0.66270784 0.66270784 0.66983373 0.66983373\n",
      " 0.67458432 0.67458432 0.68171021 0.68171021 0.6935867  0.6935867\n",
      " 0.695962   0.695962   0.69833729 0.69833729 0.70308789 0.70308789\n",
      " 0.70546318 0.70546318 0.71021378 0.71021378 0.71971496 0.71971496\n",
      " 0.72446556 0.72446556 0.73159145 0.73159145 0.73396675 0.73396675\n",
      " 0.74109264 0.74109264 0.75534442 0.75534442 0.75771971 0.75771971\n",
      " 0.7695962  0.7695962  0.7719715  0.7719715  0.77672209 0.77672209\n",
      " 0.78859857 0.78859857 0.79097387 0.79097387 0.79809976 0.79809976\n",
      " 0.80285036 0.80285036 0.80522565 0.80522565 0.81235154 0.81235154\n",
      " 0.81472684 0.81472684 0.82185273 0.82185273 0.82660333 0.82660333\n",
      " 0.82897862 0.82897862 0.83847981 0.83847981 0.84085511 0.84085511\n",
      " 0.8456057  0.8456057  0.847981   0.847981   0.85510689 0.85510689\n",
      " 0.85985748 0.85985748 0.86460808 0.86460808 0.86935867 0.86935867\n",
      " 0.87173397 0.87173397 0.87885986 0.87885986 0.88123515 0.88123515\n",
      " 0.89786223 0.89786223 0.90023753 0.90023753 0.90261283 0.90261283\n",
      " 0.91211401 0.91211401 0.91448931 0.91448931 0.9192399  0.9192399\n",
      " 0.9239905  0.9239905  0.9263658  0.9263658  0.93586698 0.93586698\n",
      " 0.95249406 0.95249406 0.95724466 0.95724466 0.96912114 0.96912114\n",
      " 0.97149644 0.97149644 0.97387173 0.97387173 0.97624703 0.97624703\n",
      " 0.97862233 0.97862233 0.98099762 0.98099762 1.        ] [0.60940091 0.60652209 0.59518205 0.59044804 0.587186   0.58132429\n",
      " 0.57963252 0.57743304 0.57031464 0.56718374 0.56152384 0.56116548\n",
      " 0.56074914 0.5605861  0.56025568 0.5602422  0.55625377 0.5536562\n",
      " 0.55341184 0.55339382 0.55280372 0.55235952 0.5514324  0.55092585\n",
      " 0.55051923 0.55015853 0.54987826 0.54971108 0.54950242 0.54915488\n",
      " 0.54798902 0.54788254 0.54638218 0.54604508 0.54585264 0.54580633\n",
      " 0.54465163 0.54450044 0.54231568 0.54169065 0.53877255 0.53806403\n",
      " 0.53762978 0.53711982 0.53394577 0.53340466 0.5323858  0.53219765\n",
      " 0.53115869 0.53085339 0.53001622 0.52957764 0.52899453 0.52894789\n",
      " 0.52869548 0.52851516 0.52725169 0.52712219 0.5261327  0.52605074\n",
      " 0.52601301 0.52591687 0.52510165 0.52480155 0.52458105 0.52429915\n",
      " 0.52416981 0.52396482 0.52346073 0.52301984 0.5221981  0.52210594\n",
      " 0.52188137 0.52157329 0.52150104 0.52115303 0.52108841 0.52100281\n",
      " 0.52055497 0.5205519  0.52052222 0.52046771 0.52005619 0.51993775\n",
      " 0.51896032 0.5187802  0.51742052 0.51676626 0.51666511 0.51663449\n",
      " 0.51650958 0.51625805 0.51589503 0.51579389 0.51570114 0.51566217\n",
      " 0.51561762 0.51537032 0.51512046 0.51503107 0.51383711 0.51360412\n",
      " 0.5129639  0.51277946 0.51228186 0.51180414 0.51172626 0.51157855\n",
      " 0.51143021 0.51135471 0.51069096 0.51063589 0.50987291 0.50978586\n",
      " 0.50956033 0.50940595 0.50929335 0.50919533 0.50899145 0.50889312\n",
      " 0.50885324 0.50852583 0.50832831 0.50806924 0.50780151 0.50750775\n",
      " 0.50729193 0.5071362  0.50681316 0.50572473 0.50506287 0.5050109\n",
      " 0.50487392 0.50481883 0.50406669 0.50384602 0.50373955 0.50346236\n",
      " 0.50342622 0.50335585 0.50236593 0.50215872 0.50206519 0.50191669\n",
      " 0.50184133 0.50178989 0.5010374  0.50080371 0.50065432 0.50031904\n",
      " 0.49964962 0.49962477 0.4995133  0.49923427 0.49897836 0.49876852\n",
      " 0.49861555 0.49843283 0.49832165 0.49826365 0.49811224 0.49808426\n",
      " 0.49782758 0.49775431 0.49755564 0.49743819 0.49705275 0.49704799\n",
      " 0.49702982 0.49688282 0.49686384 0.49665838 0.49654273 0.4965079\n",
      " 0.49635341 0.49544189 0.49509798 0.49490253 0.49487582 0.4948386\n",
      " 0.49482566 0.49476245 0.49436943 0.49418971 0.494124   0.49373445\n",
      " 0.49350287 0.49334288 0.49319541 0.49319382 0.49263103 0.49253516\n",
      " 0.49239173 0.49225364 0.49202244 0.4919456  0.49177936 0.49170529\n",
      " 0.49167006 0.49136564 0.49134468 0.49118966 0.49084263 0.49083608\n",
      " 0.49066986 0.49059342 0.49009279 0.49002304 0.48995972 0.48994393\n",
      " 0.48939934 0.48927005 0.48885849 0.48885309 0.48880888 0.48876808\n",
      " 0.4884025  0.4882752  0.48789244 0.4876657  0.4875507  0.48753126\n",
      " 0.48653744 0.48640371 0.48627312 0.4862277  0.48582648 0.48561259\n",
      " 0.48545984 0.48528472 0.48512044 0.48487516 0.4838336  0.48284828\n",
      " 0.48222769 0.48129959 0.48073682 0.48058952 0.48025868 0.48003458\n",
      " 0.47989022 0.47974389 0.47908357 0.47896642 0.47830646 0.47822489\n",
      " 0.47712859 0.47625146 0.47608266 0.47578024 0.47408944 0.47367437\n",
      " 0.47295399 0.47253571 0.47203667 0.47144509 0.4706821  0.46996575\n",
      " 0.46901543 0.46900603 0.46824579 0.46791667 0.46674854 0.46673717\n",
      " 0.46217697 0.46046198 0.4599517  0.4597263  0.45911456 0.45892365\n",
      " 0.45556541 0.45448686 0.45407967 0.45317712 0.45140721 0.44864919\n",
      " 0.44823918 0.44781694 0.44565233 0.44483866 0.43930415 0.43857044\n",
      " 0.42330548 0.42276911 0.41974176 0.4139616  0.40034755 0.3973216\n",
      " 0.396715   0.39375489 0.3929417  0.386787   0.38519222 0.38294263\n",
      " 0.3798185  0.37535034 0.37141233 0.36965356 0.31569896]\n"
     ]
    }
   ],
   "source": [
    "FPR,TPR,tresholds=roc_curve(y_test,logit1.predict_proba(x_test)[:,1])\n",
    "print(FPR,TPR,tresholds)"
   ]
  },
  {
   "cell_type": "code",
   "execution_count": 109,
   "metadata": {},
   "outputs": [
    {
     "data": {
      "image/png": "[encoded data removed]",
      "text/plain": [
       "<Figure size 432x288 with 1 Axes>"
      ]
     },
     "metadata": {
      "needs_background": "light"
     },
     "output_type": "display_data"
    }
   ],
   "source": [
    "plt.plot(FPR,TPR,label=\"ROC AUC=%f\"%roc_auc_score(y_test,model1.predict(x_test)))\n",
    "plt.plot([0,1],[0,1])\n",
    "plt.legend(loc=\"lower right\")\n",
    "plt.xlabel(\"FPR\")\n",
    "plt.ylabel(\"TPR\")\n",
    "plt.show()"
   ]
  },
  {
   "cell_type": "markdown",
   "metadata": {},
   "source": [
    "## Tree\n"
   ]
  },
  {
   "cell_type": "code",
   "execution_count": 101,
   "metadata": {},
   "outputs": [
    {
     "data": {
      "text/plain": [
       "(array([0.        , 0.10047847, 0.15789474, 0.22966507, 0.30143541,\n",
       "        0.37799043, 0.41148325, 0.65550239, 0.70813397, 0.8277512 ,\n",
       "        0.9138756 , 1.        ]),\n",
       " array([0.        , 0.06413302, 0.14726841, 0.21852732, 0.27790974,\n",
       "        0.35866983, 0.40855107, 0.63895487, 0.71971496, 0.85035629,\n",
       "        0.90736342, 1.        ]),\n",
       " array([1.69601413, 0.69601413, 0.6631419 , 0.589431  , 0.5453157 ,\n",
       "        0.53375895, 0.50715746, 0.48285644, 0.45438433, 0.45295423,\n",
       "        0.39445514, 0.36928075]))"
      ]
     },
     "execution_count": 101,
     "metadata": {},
     "output_type": "execute_result"
    }
   ],
   "source": [
    "roc_curve(y_test,tree1.predict_proba(x_test)[:,1])\n"
   ]
  },
  {
   "cell_type": "code",
   "execution_count": 110,
   "metadata": {},
   "outputs": [
    {
     "data": {
      "image/png": "[encoded data removed]",
      "text/plain": [
       "<Figure size 432x288 with 1 Axes>"
      ]
     },
     "metadata": {
      "needs_background": "light"
     },
     "output_type": "display_data"
    }
   ],
   "source": [
    "FPR1,TPR1,tresholds1=roc_curve(y_test,tree1.predict_proba(x_test)[:,1])\n",
    "plt.figure(figsize=(6,4))\n",
    "plt.plot(FPR1,TPR1,label=\"ROC AUC=%f\"%roc_auc_score(y_test,model1.predict(x_test)))\n",
    "plt.plot([0,1],[0,1])\n",
    "plt.legend(loc=\"lower right\")\n",
    "plt.xlabel(\"FPR\")\n",
    "plt.ylabel(\"TPR\")\n",
    "plt.show()"
   ]
  },
  {
   "cell_type": "code",
   "execution_count": 112,
   "metadata": {},
   "outputs": [
    {
     "data": {
      "text/html": [
       "<div>\n",
       "<style scoped>\n",
       "    .dataframe tbody tr th:only-of-type {\n",
       "        vertical-align: middle;\n",
       "    }\n",
       "\n",
       "    .dataframe tbody tr th {\n",
       "        vertical-align: top;\n",
       "    }\n",
       "\n",
       "    .dataframe thead th {\n",
       "        text-align: right;\n",
       "    }\n",
       "</style>\n",
       "<table border=\"1\" class=\"dataframe\">\n",
       "  <thead>\n",
       "    <tr style=\"text-align: right;\">\n",
       "      <th></th>\n",
       "      <th>importances</th>\n",
       "    </tr>\n",
       "  </thead>\n",
       "  <tbody>\n",
       "    <tr>\n",
       "      <th>Unnamed: 0</th>\n",
       "      <td>0.874553</td>\n",
       "    </tr>\n",
       "    <tr>\n",
       "      <th>Runtime</th>\n",
       "      <td>0.125447</td>\n",
       "    </tr>\n",
       "    <tr>\n",
       "      <th>Distributor</th>\n",
       "      <td>0.000000</td>\n",
       "    </tr>\n",
       "    <tr>\n",
       "      <th>Actors</th>\n",
       "      <td>0.000000</td>\n",
       "    </tr>\n",
       "    <tr>\n",
       "      <th>Producer</th>\n",
       "      <td>0.000000</td>\n",
       "    </tr>\n",
       "    <tr>\n",
       "      <th>Cinematography</th>\n",
       "      <td>0.000000</td>\n",
       "    </tr>\n",
       "    <tr>\n",
       "      <th>Editing</th>\n",
       "      <td>0.000000</td>\n",
       "    </tr>\n",
       "    <tr>\n",
       "      <th>Music</th>\n",
       "      <td>0.000000</td>\n",
       "    </tr>\n",
       "  </tbody>\n",
       "</table>\n",
       "</div>"
      ],
      "text/plain": [
       "                importances\n",
       "Unnamed: 0         0.874553\n",
       "Runtime            0.125447\n",
       "Distributor        0.000000\n",
       "Actors             0.000000\n",
       "Producer           0.000000\n",
       "Cinematography     0.000000\n",
       "Editing            0.000000\n",
       "Music              0.000000"
      ]
     },
     "execution_count": 112,
     "metadata": {},
     "output_type": "execute_result"
    }
   ],
   "source": [
    "imp=pd.DataFrame(data=tree1.feature_importances_,index=X.columns,columns=['importances'])\n",
    "imp.sort_values(by=\"importances\",ascending=False)"
   ]
  },
  {
   "cell_type": "code",
   "execution_count": null,
   "metadata": {},
   "outputs": [],
   "source": []
  }
 ],
 "metadata": {
  "kernelspec": {
   "display_name": "Python 3",
   "language": "python",
   "name": "python3"
  },
  "language_info": {
   "codemirror_mode": {
    "name": "ipython",
    "version": 3
   },
   "file_extension": ".py",
   "mimetype": "text/x-python",
   "name": "python",
   "nbconvert_exporter": "python",
   "pygments_lexer": "ipython3",
   "version": "3.7.1"
  }
 },
 "nbformat": 4,
 "nbformat_minor": 2
}
